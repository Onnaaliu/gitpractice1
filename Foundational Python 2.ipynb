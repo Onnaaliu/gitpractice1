{
 "cells": [
  {
   "cell_type": "markdown",
   "metadata": {},
   "source": [
    "# Foundational Python : Part 2"
   ]
  },
  {
   "cell_type": "markdown",
   "metadata": {},
   "source": [
    "# Conditional Statements in Python"
   ]
  },
  {
   "cell_type": "code",
   "execution_count": null,
   "metadata": {},
   "outputs": [],
   "source": [
    "# There are three types of conditional statements in Python:\n",
    "# if\n",
    "# if-else\n",
    "# if-elif-else"
   ]
  },
  {
   "cell_type": "code",
   "execution_count": 3,
   "metadata": {},
   "outputs": [
    {
     "name": "stdout",
     "output_type": "stream",
     "text": [
      "The number is equal to 5\n"
     ]
    }
   ],
   "source": [
    "num = 5\n",
    "if (num==5):\n",
    "    print(\"The number is equal to 5\")"
   ]
  },
  {
   "cell_type": "code",
   "execution_count": 4,
   "metadata": {},
   "outputs": [
    {
     "name": "stdout",
     "output_type": "stream",
     "text": [
      "The number is greater than 5\n"
     ]
    }
   ],
   "source": [
    "if num > 3:  #The condition is false\n",
    "    print(\"The number is greater than 5\") #The code is not executed"
   ]
  },
  {
   "cell_type": "code",
   "execution_count": 5,
   "metadata": {},
   "outputs": [
    {
     "name": "stdout",
     "output_type": "stream",
     "text": [
      "The number is a multiple of 2,3,4\n"
     ]
    }
   ],
   "source": [
    "# Conditions with Logical Operators\n",
    "num = 12\n",
    "if num % 2 == 0 and num % 3 == 0 and num % 4 == 0:\n",
    "    print(\"The number is a multiple of 2,3,4\") \n",
    "# Only works when num is a multiple of 2, 3, and 4"
   ]
  },
  {
   "cell_type": "code",
   "execution_count": 6,
   "metadata": {},
   "outputs": [
    {
     "name": "stdout",
     "output_type": "stream",
     "text": [
      "The number is a multiple of 5 and/or 6\n"
     ]
    }
   ],
   "source": [
    "if (num % 5 == 0 or num % 6 == 0):\n",
    "    print(\"The number is a multiple of 5 and/or 6\")  \n",
    "# Only works when num is either a multiple of 5 or 6"
   ]
  },
  {
   "cell_type": "code",
   "execution_count": 7,
   "metadata": {},
   "outputs": [
    {
     "name": "stdout",
     "output_type": "stream",
     "text": [
      "The number is in the 60 - 70 range\n"
     ]
    }
   ],
   "source": [
    "# Nested if Statements\n",
    "num = 70\n",
    "if num>=0 and num <=100:\n",
    "    if num >=50 and num <=75:\n",
    "        if num >=60 and num <=70:\n",
    "            print(\"The number is in the 60 - 70 range\")"
   ]
  },
  {
   "cell_type": "code",
   "execution_count": 8,
   "metadata": {},
   "outputs": [
    {
     "name": "stdout",
     "output_type": "stream",
     "text": [
      "20\n",
      "100\n"
     ]
    }
   ],
   "source": [
    "# Creating and Editing Values in conditional statement\n",
    "num = 10\n",
    "if num > 5:\n",
    "    num = 20 #Assigning new value to num\n",
    "    new_num = num * 5 #Creating a new value called new_num\n",
    "    print(num)\n",
    "    print(new_num)"
   ]
  },
  {
   "cell_type": "code",
   "execution_count": 9,
   "metadata": {},
   "outputs": [
    {
     "name": "stdout",
     "output_type": "stream",
     "text": [
      "The number is greater than 50\n"
     ]
    }
   ],
   "source": [
    "# If Else Condition\n",
    "num = 70\n",
    "if num <=50:\n",
    "    print(\"The number is less than or equal to 50\")\n",
    "else:\n",
    "    print(\"The number is greater than 50\")"
   ]
  },
  {
   "cell_type": "code",
   "execution_count": 10,
   "metadata": {},
   "outputs": [
    {
     "name": "stdout",
     "output_type": "stream",
     "text": [
      "The number is greater than 50\n"
     ]
    }
   ],
   "source": [
    "# Conditional Expressions\n",
    "num = 60\n",
    "output = \"The number is less than or equal to 50\" \\\n",
    "    if num <= 50 else \"The number is greater than 50\"\n",
    "print(output)"
   ]
  },
  {
   "cell_type": "code",
   "execution_count": 12,
   "metadata": {},
   "outputs": [
    {
     "name": "stdout",
     "output_type": "stream",
     "text": [
      "stop\n"
     ]
    }
   ],
   "source": [
    "light = \"Red\" #Initial state of the light\n",
    "\n",
    "if light == \"Green\":\n",
    "    print(\"Go\")\n",
    "elif light == \"Yellow\":\n",
    "    print(\"Caution\")\n",
    "elif light == \"Red\":\n",
    "    print(\"stop\")\n",
    "else:\n",
    "    print(\"The light signal is not Correct\")"
   ]
  },
  {
   "cell_type": "code",
   "execution_count": null,
   "metadata": {},
   "outputs": [],
   "source": []
  },
  {
   "cell_type": "code",
   "execution_count": 19,
   "metadata": {},
   "outputs": [
    {
     "name": "stdout",
     "output_type": "stream",
     "text": [
      "Five\n"
     ]
    }
   ],
   "source": [
    "# Code that checks whether the value of an integer is in the range of 0-9.\n",
    "\n",
    "# We can have as many elif statements as possible as long as they \n",
    "# are between the IF and ELSE statement.\n",
    "\n",
    "num = 5\n",
    "\n",
    "if num == 0:\n",
    "    print(\"Zero\")\n",
    "elif num == 1:\n",
    "    print(\"One\")\n",
    "elif num == 2:\n",
    "    print(\"Two\")\n",
    "elif num == 3:\n",
    "    print(\"Three\")\n",
    "elif num == 4:\n",
    "    print(\"Four\")\n",
    "elif num == 5:\n",
    "    print(\"Five\")\n",
    "elif num == 6:\n",
    "    print(\"Six\")\n",
    "elif num == 7:\n",
    "    print(\"Seven\")\n",
    "elif num == 8:\n",
    "    print(\"Eight\")\n",
    "elif num == 9:\n",
    "    print(\"Nine\")"
   ]
  },
  {
   "cell_type": "code",
   "execution_count": 21,
   "metadata": {},
   "outputs": [
    {
     "name": "stdout",
     "output_type": "stream",
     "text": [
      "The number is greater than 5\n",
      "The number is odd\n"
     ]
    }
   ],
   "source": [
    "num = 13\n",
    "# Multiple IF Statements behave differently. \n",
    "# If more statements are true they evaluate.\n",
    "if num > 5:\n",
    "    print(\"The number is greater than 5\")\n",
    "\n",
    "if num % 2 == 0:\n",
    "    print(\"The number is even\")\n",
    "\n",
    "if not num % 2 == 0:\n",
    "    print(\"The number is odd\")"
   ]
  },
  {
   "cell_type": "code",
   "execution_count": 22,
   "metadata": {},
   "outputs": [
    {
     "name": "stdout",
     "output_type": "stream",
     "text": [
      "Hello Friend!\n",
      "What is your name?\n",
      "yemi\n",
      "It is good to meet you, yemi\n",
      "The length of your name is:\n",
      "4\n",
      "What is your age?\n",
      "13\n",
      "You will be 14 in a year.\n"
     ]
    }
   ],
   "source": [
    "########### More on using Python Input #######################\n",
    "\n",
    "#This program says hello and asks for my name.\n",
    "\n",
    "print('Hello Friend!')\n",
    "print('What is your name?') # ask for their name\n",
    "myName = input() #Take their name input\n",
    "print('It is good to meet you, ' + myName)\n",
    "print('The length of your name is:')\n",
    "print(len(myName)) #print the length of their name\n",
    "print('What is your age?') # ask for their age\n",
    "myAge = input() #Take their age input\n",
    "print('You will be ' + str(int(myAge) + 1) + ' in a year.') #Add one to their age"
   ]
  },
  {
   "cell_type": "code",
   "execution_count": 23,
   "metadata": {},
   "outputs": [
    {
     "name": "stdout",
     "output_type": "stream",
     "text": [
      "Please type your name.\n",
      "yemi\n",
      "Try Again!\n",
      "Please type your name.\n",
      "cynthia\n",
      "Try Again!\n",
      "Please type your name.\n",
      "kola\n",
      "Try Again!\n",
      "Please type your name.\n",
      "fatimat\n",
      "Welcome Home\n"
     ]
    }
   ],
   "source": [
    "############## Validate a User Name ###############\n",
    "while True:\n",
    "    print('Please type your name.')\n",
    "    name = input()\n",
    "    if name == 'fatimat':\n",
    "        print (\"Welcome Home\")\n",
    "        break\n",
    "    print('Try Again!')"
   ]
  },
  {
   "cell_type": "code",
   "execution_count": 27,
   "metadata": {},
   "outputs": [
    {
     "name": "stdout",
     "output_type": "stream",
     "text": [
      "Who are you?\n",
      "Modupe\n",
      "Hello,Modupe . What is the password? (It is a fish.)\n",
      "goldfish\n",
      "Who are you?\n",
      "Modupe\n",
      "Hello,Modupe . What is the password? (It is a fish.)\n",
      "catfish\n",
      "Who are you?\n",
      "Modupe\n",
      "Hello,Modupe . What is the password? (It is a fish.)\n",
      "swordfish\n",
      "Access granted.\n"
     ]
    }
   ],
   "source": [
    "####### Let’s use continue to write a program that asks for a name \n",
    "# and password ##########\n",
    "\n",
    "while True:\n",
    "    print('Who are you?')\n",
    "    name = input()\n",
    "    if name != 'Modupe':\n",
    "        continue\n",
    "    print('Hello,Modupe . What is the password? (It is a fish.)')\n",
    "    password = input()\n",
    "    if password == 'swordfish':\n",
    "        break\n",
    "print('Access granted.')"
   ]
  },
  {
   "cell_type": "code",
   "execution_count": null,
   "metadata": {},
   "outputs": [],
   "source": [
    "############ Using Loop to Repeatedly Print a Name ############\n",
    "print('My name is:')\n",
    "for i in range(5):\n",
    "    print('Fatimat Five Times (' + str(i) + ')')"
   ]
  },
  {
   "cell_type": "code",
   "execution_count": null,
   "metadata": {},
   "outputs": [],
   "source": [
    "############### GUESS GAME IN PYTHON #######################\n",
    "\n",
    "# This is a guess the number game.\n",
    "\n",
    "import random\n",
    "secretNumber = random.randint(1, 20)\n",
    "print('I am thinking of a number between 1 and 20.')\n",
    "\n",
    "# Ask the player to guess 5 times.\n",
    "for guessesTaken in range(1, 6):\n",
    "    print('Take a guess.')\n",
    "    guess = int(input())\n",
    "\n",
    "    if guess < secretNumber:\n",
    "        print('Your guess is too low.')\n",
    "    elif guess > secretNumber:\n",
    "        print('Your guess is too high.')\n",
    "    else:\n",
    "        break # Break the loop after 5 guesses\n",
    "\n",
    "if guess == secretNumber:\n",
    "    print('Congratulations! You guessed my number in ' + str(guessesTaken) + ' guesses!')\n",
    "else:\n",
    "   print('Oh no Sorry!. The number I was thinking of was ' + str(secretNumber))"
   ]
  },
  {
   "cell_type": "markdown",
   "metadata": {},
   "source": [
    "# PYTHON FUNCTIONS"
   ]
  },
  {
   "cell_type": "code",
   "execution_count": null,
   "metadata": {},
   "outputs": [],
   "source": [
    "# A function is a reusable set of operations.\n",
    "# Think of a function as a box which performs a task repeatedly.\n",
    "# We give it an input and it returns an output."
   ]
  },
  {
   "cell_type": "code",
   "execution_count": null,
   "metadata": {},
   "outputs": [],
   "source": [
    "num1 = 10\n",
    "num2 = 40\n",
    "if num1 < num2:\n",
    "    minimum = num1\n",
    "else:\n",
    "    minimum = num2\n",
    "print(minimum)"
   ]
  },
  {
   "cell_type": "code",
   "execution_count": null,
   "metadata": {},
   "outputs": [],
   "source": [
    "num1 = 250\n",
    "num2 = 120\n",
    "if num1 < num2:\n",
    "    minimum = num1\n",
    "else:\n",
    "    minimum = num2\n",
    "print(minimum)"
   ]
  },
  {
   "cell_type": "code",
   "execution_count": null,
   "metadata": {},
   "outputs": [],
   "source": [
    "num1 = 100\n",
    "num2 = 100\n",
    "if num1 < num2:\n",
    "    minimum = num1\n",
    "else:\n",
    "    minimum = num2\n",
    "print(minimum)"
   ]
  },
  {
   "cell_type": "code",
   "execution_count": null,
   "metadata": {},
   "outputs": [],
   "source": [
    "# A Simpler One Using python Minimum Function\n",
    "minimum = min(10,40)\n",
    "print(minimum)"
   ]
  },
  {
   "cell_type": "code",
   "execution_count": null,
   "metadata": {},
   "outputs": [],
   "source": [
    "## Types of Functions in Python\n",
    "# 1. Built-in functions e.g len, print, min, max e.t.c\n",
    "# 2. User-defined functions"
   ]
  },
  {
   "cell_type": "code",
   "execution_count": null,
   "metadata": {},
   "outputs": [],
   "source": [
    "maximum = max(3, 100)\n",
    "print (maximum)"
   ]
  },
  {
   "cell_type": "markdown",
   "metadata": {},
   "source": [
    "# List Comprehensions"
   ]
  },
  {
   "cell_type": "code",
   "execution_count": null,
   "metadata": {},
   "outputs": [],
   "source": [
    "#List comprehension, or listcomp for short, allows you to define a list’s contents \n",
    "#inline with its declaration. To make a list into a listcomp, you must wrap it \n",
    "#in square brackets as usual, but also include an expression that will \n",
    "#generate the items in the list and a for loop to loop through them.\n",
    "\n",
    "#The following example creates a list without using list comprehension:\n",
    "\n",
    "x = []\n",
    "for i in (1, 2, 3):\n",
    "    x.append(i)"
   ]
  },
  {
   "cell_type": "code",
   "execution_count": null,
   "metadata": {},
   "outputs": [],
   "source": [
    "#Print out the x"
   ]
  },
  {
   "cell_type": "code",
   "execution_count": null,
   "metadata": {},
   "outputs": [],
   "source": [
    "#And this next example uses list comprehension to make the same list with a single line:\n",
    "x = [i for i in (1, 2, 3)]"
   ]
  },
  {
   "cell_type": "code",
   "execution_count": null,
   "metadata": {},
   "outputs": [],
   "source": [
    "#print the x\n",
    "x"
   ]
  },
  {
   "cell_type": "code",
   "execution_count": null,
   "metadata": {},
   "outputs": [],
   "source": [
    "#You can use multiple for statements together and use if statements to filter out items. \n",
    "#Here we create a list of words and use list comprehension to capitalize each item, \n",
    "#split up items with multiple words into single words, and delete the extraneous 'or'\n",
    "\n",
    "x = [word.capitalize()\n",
    "     for line in (\"hello world?\", \"world!\", \"or not\")\n",
    "     for word in line.split()\n",
    "     if not word.startswith(\"or\")]"
   ]
  },
  {
   "cell_type": "code",
   "execution_count": null,
   "metadata": {},
   "outputs": [],
   "source": [
    "x"
   ]
  },
  {
   "cell_type": "code",
   "execution_count": null,
   "metadata": {},
   "outputs": [],
   "source": [
    "#The code above has two for loops: the first iterates over the text lines, \n",
    "#while the second iterates over words in each of those lines. \n",
    "#The final if statement filters out words that start with or to exclude them from the final list.\n",
    "#Using list comprehension rather than for loops is a neat way to define lists quickly."
   ]
  },
  {
   "cell_type": "code",
   "execution_count": null,
   "metadata": {},
   "outputs": [],
   "source": []
  },
  {
   "cell_type": "code",
   "execution_count": null,
   "metadata": {},
   "outputs": [],
   "source": [
    "# Implementation\n",
    "# Let’s start by making a plain function that prints four lines of text.\n",
    "\n",
    "def print_datalab_interns(): #empty bracket here means we do not assign any parameter to the function\n",
    "    print(\"David\")\n",
    "    print(\"Comfort\")\n",
    "    print(\"James\")\n",
    "    print(\"Augustine\")\n",
    "    print(\"Gideon\")\n",
    "    print(\"Lois\")"
   ]
  },
  {
   "cell_type": "code",
   "execution_count": null,
   "metadata": {},
   "outputs": [],
   "source": [
    "#Calling the function in the program. We can reuse it whenever we want.\n",
    "print_datalab_interns()"
   ]
  },
  {
   "cell_type": "code",
   "execution_count": null,
   "metadata": {},
   "outputs": [],
   "source": []
  },
  {
   "cell_type": "code",
   "execution_count": null,
   "metadata": {},
   "outputs": [],
   "source": [
    "# Let’s define our own basic form of the min() function\n",
    "def CAL (first,second):\n",
    "    if(first<second):\n",
    "        print(first)\n",
    "    else:\n",
    "        print(second)"
   ]
  },
  {
   "cell_type": "code",
   "execution_count": null,
   "metadata": {},
   "outputs": [],
   "source": [
    "num1 = 20\n",
    "num2 = 15"
   ]
  },
  {
   "cell_type": "code",
   "execution_count": null,
   "metadata": {},
   "outputs": [],
   "source": [
    "CAL(num1,num2)"
   ]
  },
  {
   "cell_type": "code",
   "execution_count": null,
   "metadata": {},
   "outputs": [],
   "source": []
  },
  {
   "cell_type": "code",
   "execution_count": null,
   "metadata": {},
   "outputs": [],
   "source": [
    "## Let print out the Minimum here\n",
    "\n",
    "def minimum(first, second):\n",
    "    if (first < second):\n",
    "        return first\n",
    "    else:\n",
    "        return second\n",
    "\n",
    "print(minimum(34,37))\n",
    "print(minimum(100,78))"
   ]
  },
  {
   "cell_type": "code",
   "execution_count": null,
   "metadata": {},
   "outputs": [],
   "source": [
    "num1 = 10\n",
    "num2 = 20\n",
    "\n",
    "result = minimum(num1, num2)  # Storing the value returned by the function\n",
    "print(result)"
   ]
  },
  {
   "cell_type": "code",
   "execution_count": null,
   "metadata": {},
   "outputs": [],
   "source": [
    "def greeting(name):\n",
    "    print(\"Hello \" + name)"
   ]
  },
  {
   "cell_type": "code",
   "execution_count": null,
   "metadata": {},
   "outputs": [],
   "source": [
    "greeting(\"samuel\")"
   ]
  },
  {
   "cell_type": "code",
   "execution_count": null,
   "metadata": {},
   "outputs": [],
   "source": [
    "greeting(\"David\")"
   ]
  },
  {
   "cell_type": "code",
   "execution_count": null,
   "metadata": {},
   "outputs": [],
   "source": [
    "def greeting(name,shout):\n",
    "    if shout:\n",
    "        print(f\"Hello {name}\".upper())\n",
    "    else:\n",
    "        print(f\"Hello {name}\")"
   ]
  },
  {
   "cell_type": "code",
   "execution_count": null,
   "metadata": {},
   "outputs": [],
   "source": [
    "greeting(\"Olayemi\",True)"
   ]
  },
  {
   "cell_type": "code",
   "execution_count": null,
   "metadata": {
    "scrolled": true
   },
   "outputs": [],
   "source": [
    "greeting(\"Olayemi\",False)"
   ]
  },
  {
   "cell_type": "markdown",
   "metadata": {},
   "source": [
    "# Using Python Exception Handling"
   ]
  },
  {
   "cell_type": "code",
   "execution_count": null,
   "metadata": {},
   "outputs": [],
   "source": [
    "basket = {1:\"orange\",2:\"apple\"}\n",
    "fruit = 3"
   ]
  },
  {
   "cell_type": "code",
   "execution_count": null,
   "metadata": {},
   "outputs": [],
   "source": [
    "def get_fruits(basket, fruit):\n",
    "    try:\n",
    "        return basket[fruit]\n",
    "    except KeyError:\n",
    "        return None"
   ]
  },
  {
   "cell_type": "code",
   "execution_count": null,
   "metadata": {},
   "outputs": [],
   "source": [
    "get_fruits(basket,fruit)"
   ]
  },
  {
   "cell_type": "code",
   "execution_count": null,
   "metadata": {},
   "outputs": [],
   "source": [
    "#Another way to write it\n",
    "def get_fruits(basket, fruit):\n",
    "    if fruit in basket:\n",
    "        return basket[fruit]"
   ]
  },
  {
   "cell_type": "code",
   "execution_count": null,
   "metadata": {},
   "outputs": [],
   "source": [
    "get_fruits(basket,fruit)"
   ]
  },
  {
   "cell_type": "code",
   "execution_count": null,
   "metadata": {},
   "outputs": [],
   "source": [
    "#The get() can also return a default value instead of None; \n",
    "#just call it with a second argument:\n",
    "\n",
    "def get_fruits(basket, fruit):\n",
    "    return basket.get(fruit,\"banana\")"
   ]
  },
  {
   "cell_type": "code",
   "execution_count": null,
   "metadata": {},
   "outputs": [],
   "source": [
    "get_fruits(basket,fruit)"
   ]
  },
  {
   "cell_type": "markdown",
   "metadata": {},
   "source": [
    "# Number guessing game using Python Function"
   ]
  },
  {
   "cell_type": "code",
   "execution_count": null,
   "metadata": {},
   "outputs": [],
   "source": [
    "#The number to guess will be from 1 to 20 (inclusive).\n",
    "#The user will have 3 guesses to guess the number correctly.\n",
    "#After each wrong guess, the user will be told whether to\n",
    "#guess higher or lower next time.\n",
    "#If the user doesn't win, tell them the number.\n",
    "\n",
    "\n",
    "import random\n",
    "\n",
    "def run_game():\n",
    "    number = random.randint(1, 20)\n",
    "    max_guesses = 3\n",
    "    current_guess = 0\n",
    "\n",
    "    print(\"I'm thinking of a number between 1 and 20\")\n",
    "\n",
    "    while True:\n",
    "        guess = int(input(\"Guess a number: \"))\n",
    "        current_guess += 1\n",
    "        if guess == number:\n",
    "            print(\"That's right!\")\n",
    "            return\n",
    "        elif current_guess == max_guesses:\n",
    "            print(\"Nope! It was \" + str(number))\n",
    "            return\n",
    "        elif number < guess:\n",
    "            print(\"Lower\")\n",
    "        else:\n",
    "            print(\"Higher\")\n",
    "        print('You have {} guesses left'.format(max_guesses - current_guess))\n",
    "    "
   ]
  },
  {
   "cell_type": "code",
   "execution_count": null,
   "metadata": {},
   "outputs": [],
   "source": [
    "run_game()"
   ]
  },
  {
   "cell_type": "code",
   "execution_count": null,
   "metadata": {},
   "outputs": [],
   "source": []
  },
  {
   "cell_type": "markdown",
   "metadata": {},
   "source": [
    "# Working with Python Dictionaries"
   ]
  },
  {
   "cell_type": "code",
   "execution_count": null,
   "metadata": {},
   "outputs": [],
   "source": [
    "fruit = {1: \"Kiwi\",2:\"Mango\",3:\"Orange\",4:\"Banana\"}\n",
    "print(fruit)"
   ]
  },
  {
   "cell_type": "code",
   "execution_count": null,
   "metadata": {},
   "outputs": [],
   "source": [
    "phone = {\"Olayemi\":+2348139608388,\n",
    "\"Gideon\": +2348190678,\n",
    "\"Feyi\": +2348038518576}"
   ]
  },
  {
   "cell_type": "code",
   "execution_count": null,
   "metadata": {},
   "outputs": [],
   "source": [
    "print(phone[\"Feyi\"])"
   ]
  },
  {
   "cell_type": "code",
   "execution_count": null,
   "metadata": {},
   "outputs": [],
   "source": []
  },
  {
   "cell_type": "code",
   "execution_count": null,
   "metadata": {},
   "outputs": [],
   "source": [
    "########## Nested Dictionary ##########\n",
    "word = {\n",
    "    \"a\":\n",
    "    {\"apple\":\"A fruit which is round\",\n",
    "    \"ant\":\"A small insect that moves around\",\n",
    "    \"meat\": \"Raw flesh from animals\"\n",
    "    },\n",
    "    \"b\":\n",
    "    {\"club\": \"eaten by a young lion\",\n",
    "    \"kitten\":\"eaten by a young cat\",\n",
    "    \"kid\": \"eaten by a young goat\"\n",
    "    }\n",
    "}"
   ]
  },
  {
   "cell_type": "code",
   "execution_count": null,
   "metadata": {},
   "outputs": [],
   "source": [
    "print(word[\"b\"][\"kid\"])"
   ]
  },
  {
   "cell_type": "code",
   "execution_count": null,
   "metadata": {},
   "outputs": [],
   "source": [
    "print(word[\"a\"][\"meat\"])"
   ]
  },
  {
   "cell_type": "code",
   "execution_count": null,
   "metadata": {},
   "outputs": [],
   "source": [
    "print (word[\"a\"][\"apple\"], word[\"b\"][\"kid\"])"
   ]
  },
  {
   "cell_type": "code",
   "execution_count": null,
   "metadata": {},
   "outputs": [],
   "source": []
  },
  {
   "cell_type": "code",
   "execution_count": null,
   "metadata": {},
   "outputs": [],
   "source": []
  }
 ],
 "metadata": {
  "kernelspec": {
   "display_name": "Python 3 (ipykernel)",
   "language": "python",
   "name": "python3"
  },
  "language_info": {
   "codemirror_mode": {
    "name": "ipython",
    "version": 3
   },
   "file_extension": ".py",
   "mimetype": "text/x-python",
   "name": "python",
   "nbconvert_exporter": "python",
   "pygments_lexer": "ipython3",
   "version": "3.9.7"
  }
 },
 "nbformat": 4,
 "nbformat_minor": 4
}
